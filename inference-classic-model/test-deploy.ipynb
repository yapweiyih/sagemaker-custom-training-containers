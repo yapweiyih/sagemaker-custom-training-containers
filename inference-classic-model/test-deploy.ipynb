{
 "cells": [
  {
   "cell_type": "code",
   "execution_count": 3,
   "metadata": {},
   "outputs": [],
   "source": [
    "from catboost import CatBoostRegressor\n"
   ]
  },
  {
   "cell_type": "code",
   "execution_count": 4,
   "metadata": {},
   "outputs": [
    {
     "name": "stdout",
     "output_type": "stream",
     "text": [
      "0:\tlearn: 6.1237244\ttotal: 68.5ms\tremaining: 68.5ms\n",
      "1:\tlearn: 4.5927933\ttotal: 69ms\tremaining: 0us\n",
      "[15.625 18.125]\n"
     ]
    }
   ],
   "source": [
    "\n",
    "# Initialize data\n",
    "train_data = [[1, 4, 5, 6], [4, 5, 6, 7], [30, 40, 50, 60]]\n",
    "\n",
    "eval_data = [[2, 4, 6, 8], [1, 4, 50, 60]]\n",
    "\n",
    "train_labels = [10, 20, 30]\n",
    "# Initialize CatBoostRegressor\n",
    "model = CatBoostRegressor(iterations=2, learning_rate=1, depth=2)\n",
    "# Fit model\n",
    "model.fit(train_data, train_labels)\n",
    "# Get predictions\n",
    "preds = model.predict(eval_data)\n",
    "print(preds)\n"
   ]
  },
  {
   "cell_type": "markdown",
   "metadata": {},
   "source": [
    "## Save Model\n",
    "Model must have the file name `model.pkl` in current directory. This is hardcoded in `deploy.sh`"
   ]
  },
  {
   "cell_type": "code",
   "execution_count": 5,
   "metadata": {},
   "outputs": [],
   "source": [
    "# save model\n",
    "import pickle\n",
    "with open('model.pkl', 'wb') as out:\n",
    "    pickle.dump(model, out, protocol=3) # python3 default\n",
    "  "
   ]
  },
  {
   "cell_type": "markdown",
   "metadata": {},
   "source": [
    "## Deploy Endpoint\n",
    "\n",
    "Take note that the following needs to be updated according:\n",
    "- image name\n",
    "- classic model location\n",
    "- sagemaker execution role"
   ]
  },
  {
   "cell_type": "code",
   "execution_count": 47,
   "metadata": {},
   "outputs": [],
   "source": [
    "#! cp model.pkl local_test/test_dir/model/"
   ]
  },
  {
   "cell_type": "code",
   "execution_count": 23,
   "metadata": {},
   "outputs": [
    {
     "name": "stdout",
     "output_type": "stream",
     "text": [
      "a model.pkl\n",
      "move: ./model.tar.gz to s3://wy-sandbox-singapore/lease-plan/classic-model/sagemaker-inference-containers/rt-c360/input/model.tar.gz\n",
      "342474125894\n",
      "WARNING! Using --password via the CLI is insecure. Use --password-stdin.\n",
      "Login Succeeded\n",
      "Sending build context to Docker daemon  265.2kB\n",
      "Step 1/10 : FROM 520713654638.dkr.ecr.ap-southeast-1.amazonaws.com/sagemaker-tensorflow-scriptmode:1.12-cpu-py3\n",
      " ---> ba542f0b9706\n",
      "Step 2/10 : RUN apt-get -y update && apt-get install -y --no-install-recommends          wget          nginx          ca-certificates     && rm -rf /var/lib/apt/lists/*\n",
      " ---> Using cache\n",
      " ---> 27933e9ed3c7\n",
      "Step 3/10 : RUN pip3 install --upgrade pip\n",
      " ---> Using cache\n",
      " ---> d10eabcef50a\n",
      "Step 4/10 : RUN pip3 install --no-cache --upgrade --use-feature=2020-resolver     flask gevent gunicorn     numpy==1.19.1     pandas==1.0.5     scikit-learn==0.23.2     requests==2.24.0     scipy==1.5.1     catboost==0.24.1\n",
      " ---> Using cache\n",
      " ---> e4c95db3709b\n",
      "Step 5/10 : ENV PYTHONUNBUFFERED=TRUE\n",
      " ---> Using cache\n",
      " ---> 4a4256d5255b\n",
      "Step 6/10 : ENV PYTHONDONTWRITEBYTECODE=TRUE\n",
      " ---> Using cache\n",
      " ---> 100beebefcfc\n",
      "Step 7/10 : ENV PATH=\"/opt/program:${PATH}\"\n",
      " ---> Using cache\n",
      " ---> 9ad573a636ce\n",
      "Step 8/10 : COPY deployment_utility /opt/program\n",
      " ---> Using cache\n",
      " ---> 79f9da07b381\n",
      "Step 9/10 : COPY predictor.py /opt/program\n",
      " ---> Using cache\n",
      " ---> 306ca8f006c3\n",
      "Step 10/10 : WORKDIR /opt/program\n",
      " ---> Using cache\n",
      " ---> 7e304af2f143\n",
      "Successfully built 7e304af2f143\n",
      "Successfully tagged sagemaker-inference-containers/rt-c360:latest\n",
      "\n",
      "Docker image built ...\n",
      "The push refers to repository [342474125894.dkr.ecr.ap-southeast-1.amazonaws.com/sagemaker-inference-containers/rt-c360]\n",
      "\n",
      "\u001b[1B267f52c6: Preparing \n",
      "\u001b[1Bd062771f: Preparing \n",
      "\u001b[1Be72c4645: Preparing \n",
      "\u001b[1B7cbce181: Preparing \n",
      "\u001b[1B05c09faa: Preparing \n",
      "\u001b[1Ba8644512: Preparing \n",
      "\u001b[1Bfd64cedb: Preparing \n",
      "\u001b[1B27ca25ec: Preparing \n",
      "\u001b[1B7b824a1e: Preparing \n",
      "\u001b[1B6a7e10d7: Preparing \n",
      "\u001b[1B13f4dd23: Preparing \n",
      "\u001b[1Be75ed9a8: Preparing \n",
      "\u001b[1B333d29b9: Preparing \n",
      "\u001b[1Be66ee1d6: Preparing \n",
      "\u001b[1B5a6e9cc3: Preparing \n",
      "\u001b[1B14edf37f: Preparing \n",
      "\u001b[1B072a5034: Preparing \n",
      "\u001b[1B2298c779: Preparing \n",
      "\u001b[1B78fcccca: Preparing \n",
      "\u001b[18B72c4645: Pushed     548MB/525.1MB\u001b[17A\u001b[2K\u001b[14A\u001b[2K\u001b[18A\u001b[2K\u001b[12A\u001b[2K\u001b[18A\u001b[2K\u001b[10A\u001b[2K\u001b[11A\u001b[2K\u001b[9A\u001b[2K\u001b[8A\u001b[2K\u001b[20A\u001b[2K\u001b[3A\u001b[2K\u001b[4A\u001b[2K\u001b[18A\u001b[2K\u001b[18A\u001b[2K\u001b[18A\u001b[2K\u001b[18A\u001b[2K\u001b[18A\u001b[2K\u001b[18A\u001b[2K\u001b[18A\u001b[2K\u001b[18A\u001b[2K\u001b[18A\u001b[2K\u001b[18A\u001b[2K\u001b[18A\u001b[2K\u001b[18A\u001b[2K\u001b[18A\u001b[2K\u001b[18A\u001b[2K\u001b[18A\u001b[2K\u001b[18A\u001b[2K\u001b[18A\u001b[2K\u001b[18A\u001b[2K\u001b[18A\u001b[2K\u001b[18A\u001b[2K\u001b[18A\u001b[2K\u001b[18A\u001b[2K\u001b[18A\u001b[2K\u001b[18A\u001b[2K\u001b[18A\u001b[2K\u001b[18A\u001b[2K\u001b[18A\u001b[2K\u001b[18A\u001b[2K\u001b[18A\u001b[2K\u001b[18A\u001b[2K\u001b[18A\u001b[2K\u001b[18A\u001b[2K\u001b[18A\u001b[2K\u001b[18A\u001b[2K\u001b[18A\u001b[2K\u001b[18A\u001b[2K\u001b[18A\u001b[2K\u001b[18A\u001b[2K\u001b[18A\u001b[2K\u001b[18A\u001b[2K\u001b[18A\u001b[2K\u001b[18A\u001b[2K\u001b[18A\u001b[2K\u001b[18A\u001b[2K\u001b[18A\u001b[2K\u001b[18A\u001b[2K\u001b[18A\u001b[2K\u001b[18A\u001b[2K\u001b[18A\u001b[2K\u001b[18A\u001b[2K\u001b[18A\u001b[2K\u001b[18A\u001b[2K\u001b[18A\u001b[2K\u001b[18A\u001b[2K\u001b[18A\u001b[2K\u001b[18A\u001b[2K\u001b[18A\u001b[2K\u001b[18A\u001b[2K\u001b[18A\u001b[2K\u001b[18A\u001b[2K\u001b[18A\u001b[2K\u001b[18A\u001b[2K\u001b[18A\u001b[2K\u001b[18A\u001b[2K\u001b[18A\u001b[2K\u001b[18A\u001b[2K\u001b[18A\u001b[2K\u001b[18A\u001b[2K\u001b[18A\u001b[2K\u001b[18A\u001b[2K\u001b[18A\u001b[2K\u001b[18A\u001b[2K\u001b[18A\u001b[2K\u001b[18A\u001b[2K\u001b[18A\u001b[2K\u001b[18A\u001b[2K\u001b[18A\u001b[2K\u001b[18A\u001b[2K\u001b[18A\u001b[2K\u001b[18A\u001b[2K\u001b[18A\u001b[2K\u001b[18A\u001b[2K\u001b[18A\u001b[2K\u001b[18A\u001b[2K\u001b[18A\u001b[2K\u001b[18A\u001b[2K\u001b[18A\u001b[2K\u001b[18A\u001b[2K\u001b[18A\u001b[2K\u001b[18A\u001b[2K\u001b[18A\u001b[2K\u001b[18A\u001b[2K\u001b[18A\u001b[2K\u001b[18A\u001b[2K\u001b[18A\u001b[2K\u001b[18A\u001b[2K\u001b[18A\u001b[2K\u001b[18A\u001b[2K\u001b[18A\u001b[2K\u001b[18A\u001b[2K\u001b[18A\u001b[2K\u001b[18A\u001b[2K\u001b[18A\u001b[2K\u001b[18A\u001b[2K\u001b[18A\u001b[2K\u001b[18A\u001b[2K\u001b[18A\u001b[2K\u001b[18A\u001b[2K\u001b[18A\u001b[2K\u001b[18A\u001b[2K\u001b[18A\u001b[2K\u001b[18A\u001b[2K\u001b[18A\u001b[2K\u001b[18A\u001b[2K\u001b[18A\u001b[2K\u001b[18A\u001b[2K\u001b[18A\u001b[2K\u001b[18A\u001b[2K\u001b[18A\u001b[2K\u001b[18A\u001b[2K\u001b[18A\u001b[2K\u001b[18A\u001b[2K\u001b[18A\u001b[2K\u001b[18A\u001b[2K\u001b[18A\u001b[2K\u001b[18A\u001b[2K\u001b[18A\u001b[2K\u001b[18A\u001b[2K\u001b[18A\u001b[2K\u001b[18A\u001b[2K\u001b[18A\u001b[2K\u001b[18A\u001b[2K\u001b[18A\u001b[2K\u001b[18A\u001b[2K\u001b[18A\u001b[2K\u001b[18A\u001b[2K\u001b[18A\u001b[2K\u001b[18A\u001b[2K\u001b[18A\u001b[2K\u001b[18A\u001b[2K\u001b[18A\u001b[2K\u001b[18A\u001b[2K\u001b[18A\u001b[2K\u001b[18A\u001b[2K\u001b[18A\u001b[2K\u001b[18A\u001b[2K\u001b[18A\u001b[2K\u001b[18A\u001b[2K\u001b[18A\u001b[2K\u001b[18A\u001b[2K\u001b[18A\u001b[2K\u001b[18A\u001b[2K\u001b[18A\u001b[2K\u001b[18A\u001b[2K\u001b[18A\u001b[2K\u001b[18A\u001b[2K\u001b[18A\u001b[2K\u001b[18A\u001b[2K\u001b[18A\u001b[2K\u001b[18A\u001b[2K\u001b[18A\u001b[2K\u001b[18A\u001b[2K\u001b[18A\u001b[2K\u001b[18A\u001b[2K\u001b[18A\u001b[2K\u001b[18A\u001b[2K\u001b[18A\u001b[2K\u001b[18A\u001b[2K\u001b[18A\u001b[2K\u001b[18A\u001b[2K\u001b[18A\u001b[2K\u001b[18A\u001b[2K\u001b[18A\u001b[2K\u001b[18A\u001b[2K\u001b[18A\u001b[2K\u001b[18A\u001b[2K\u001b[18A\u001b[2KPushing    366MB/525.1MB\u001b[18A\u001b[2K\u001b[18A\u001b[2K\u001b[18A\u001b[2K\u001b[18A\u001b[2K\u001b[18A\u001b[2K\u001b[18A\u001b[2K\u001b[18A\u001b[2K\u001b[18A\u001b[2K\u001b[18A\u001b[2K\u001b[18A\u001b[2K\u001b[18A\u001b[2K\u001b[18A\u001b[2K\u001b[18A\u001b[2K\u001b[18A\u001b[2K\u001b[18A\u001b[2K\u001b[18A\u001b[2K\u001b[18A\u001b[2K\u001b[18A\u001b[2K\u001b[18A\u001b[2K\u001b[18A\u001b[2K\u001b[18A\u001b[2K\u001b[18A\u001b[2K\u001b[18A\u001b[2K\u001b[18A\u001b[2K\u001b[18A\u001b[2K\u001b[18A\u001b[2K\u001b[18A\u001b[2K\u001b[18A\u001b[2K\u001b[18A\u001b[2K\u001b[18A\u001b[2K\u001b[18A\u001b[2K\u001b[18A\u001b[2K\u001b[18A\u001b[2K\u001b[18A\u001b[2K\u001b[18A\u001b[2K\u001b[18A\u001b[2K\u001b[18A\u001b[2K\u001b[18A\u001b[2K\u001b[18A\u001b[2K\u001b[18A\u001b[2K\u001b[18A\u001b[2K\u001b[18A\u001b[2K\u001b[18A\u001b[2K\u001b[18A\u001b[2K\u001b[18A\u001b[2K\u001b[18A\u001b[2K\u001b[18A\u001b[2K\u001b[18A\u001b[2K\u001b[18A\u001b[2K\u001b[18A\u001b[2K\u001b[18A\u001b[2K\u001b[18A\u001b[2K\u001b[18A\u001b[2K\u001b[18A\u001b[2K\u001b[18A\u001b[2K\u001b[18A\u001b[2K\u001b[18A\u001b[2K\u001b[18A\u001b[2K\u001b[18A\u001b[2K\u001b[18A\u001b[2K\u001b[18A\u001b[2K\u001b[18A\u001b[2K\u001b[18A\u001b[2K\u001b[18A\u001b[2K\u001b[18A\u001b[2K\u001b[18A\u001b[2K\u001b[18A\u001b[2K\u001b[18A\u001b[2K\u001b[18A\u001b[2K\u001b[18A\u001b[2K\u001b[18A\u001b[2K\u001b[18A\u001b[2K\u001b[18A\u001b[2K\u001b[18A\u001b[2K\u001b[18A\u001b[2K\u001b[18A\u001b[2K\u001b[18A\u001b[2K\u001b[18A\u001b[2K\u001b[18A\u001b[2K\u001b[18A\u001b[2K\u001b[18A\u001b[2K\u001b[18A\u001b[2K\u001b[18A\u001b[2K\u001b[18A\u001b[2K\u001b[18A\u001b[2K\u001b[18A\u001b[2K\u001b[18A\u001b[2K\u001b[18A\u001b[2K\u001b[18A\u001b[2K\u001b[18A\u001b[2K\u001b[18A\u001b[2K\u001b[18A\u001b[2K\u001b[18A\u001b[2Klatest: digest: sha256:c2e43b496e2d9fdbbb1f5664243303ce568f30054a221e354ef37c040294f7a4 size: 4515\n",
      "\n",
      "Docker image pushed ...\n",
      "{\n",
      "    \"ModelArn\": \"arn:aws:sagemaker:ap-southeast-1:342474125894:model/rtc360-20200929-214740\"\n",
      "}\n",
      "{\n",
      "    \"EndpointConfigArn\": \"arn:aws:sagemaker:ap-southeast-1:342474125894:endpoint-config/rtc360-20200929-214740\"\n",
      "}\n",
      "{\n",
      "    \"EndpointArn\": \"arn:aws:sagemaker:ap-southeast-1:342474125894:endpoint/rtc360-20200929-214740\"\n",
      "}\n",
      "Creating endpoint rtc360-20200929-214740 ...\n",
      "\n",
      "To check on the status use:\n",
      "    !aws sagemaker list-endpoints --name-contains rtc360-20200929-214740\n"
     ]
    }
   ],
   "source": [
    "!./deploy.sh sagemaker-inference-containers/rt-c360"
   ]
  },
  {
   "cell_type": "code",
   "execution_count": 27,
   "metadata": {},
   "outputs": [
    {
     "name": "stdout",
     "output_type": "stream",
     "text": [
      "{\n",
      "    \"Endpoints\": [\n",
      "        {\n",
      "            \"EndpointName\": \"rtc360-20200929-214740\",\n",
      "            \"EndpointArn\": \"arn:aws:sagemaker:ap-southeast-1:342474125894:endpoint/rtc360-20200929-214740\",\n",
      "            \"CreationTime\": 1601387263.274,\n",
      "            \"LastModifiedTime\": 1601387696.114,\n",
      "            \"EndpointStatus\": \"InService\"\n",
      "        }\n",
      "    ]\n",
      "}\n"
     ]
    }
   ],
   "source": [
    "!aws sagemaker list-endpoints --name-contains rtc360-20200929-214740"
   ]
  },
  {
   "cell_type": "code",
   "execution_count": 26,
   "metadata": {},
   "outputs": [
    {
     "name": "stdout",
     "output_type": "stream",
     "text": [
      "Tue Sep 29 21:49:38 +08 2020\n"
     ]
    }
   ],
   "source": [
    "!date"
   ]
  },
  {
   "cell_type": "markdown",
   "metadata": {},
   "source": [
    "## Inference\n"
   ]
  },
  {
   "cell_type": "code",
   "execution_count": 28,
   "metadata": {},
   "outputs": [],
   "source": [
    "!echo \"1,2,3,4\\n5,6,7,8\" >> test.csv"
   ]
  },
  {
   "cell_type": "code",
   "execution_count": 29,
   "metadata": {},
   "outputs": [
    {
     "name": "stdout",
     "output_type": "stream",
     "text": [
      "1,2,3,4\n",
      "5,6,7,8\n",
      "1,2,3,4\n",
      "5,6,7,8\n",
      "\n"
     ]
    }
   ],
   "source": [
    "with open('test.csv', 'r') as f:\n",
    "    payload = f.read()\n",
    "    \n",
    "print(payload)"
   ]
  },
  {
   "cell_type": "code",
   "execution_count": 31,
   "metadata": {},
   "outputs": [
    {
     "name": "stdout",
     "output_type": "stream",
     "text": [
      "15.625\n",
      "20.0\n",
      "15.625\n",
      "20.0\n",
      "\n"
     ]
    }
   ],
   "source": [
    "# leaseplan-deploy-py3-20191015-055338 (iso match sklearn)\n",
    "# leaseplan-deploy-py3-20191016-083601 (v2)\n",
    "\n",
    "import io, boto3\n",
    "\n",
    "sess = boto3.Session()\n",
    "response = sess.client('sagemaker-runtime').invoke_endpoint(\n",
    "    EndpointName='rtc360-20200929-214740', \n",
    "    Body=payload,\n",
    "    ContentType='text/csv', \n",
    ")\n",
    "\n",
    "results = response['Body'].read().decode('ascii')\n",
    "print(results)\n"
   ]
  },
  {
   "cell_type": "code",
   "execution_count": null,
   "metadata": {},
   "outputs": [],
   "source": []
  }
 ],
 "metadata": {
  "kernelspec": {
   "display_name": "Environment (virtualenv_sandbox)",
   "language": "python",
   "name": "virtualenv_sandbox"
  },
  "language_info": {
   "codemirror_mode": {
    "name": "ipython",
    "version": 3
   },
   "file_extension": ".py",
   "mimetype": "text/x-python",
   "name": "python",
   "nbconvert_exporter": "python",
   "pygments_lexer": "ipython3",
   "version": "3.8.0"
  }
 },
 "nbformat": 4,
 "nbformat_minor": 4
}
