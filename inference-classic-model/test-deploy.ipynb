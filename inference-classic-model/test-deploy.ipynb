{
 "cells": [
  {
   "cell_type": "code",
   "execution_count": 1,
   "metadata": {},
   "outputs": [],
   "source": [
    "from catboost import CatBoostRegressor\n"
   ]
  },
  {
   "cell_type": "code",
   "execution_count": 2,
   "metadata": {},
   "outputs": [
    {
     "output_type": "stream",
     "name": "stdout",
     "text": [
      "0:\tlearn: 6.1237244\ttotal: 47.1ms\tremaining: 47.1ms\n1:\tlearn: 4.5927933\ttotal: 47.6ms\tremaining: 0us\n[15.625 18.125]\n"
     ]
    }
   ],
   "source": [
    "\n",
    "# Initialize data\n",
    "train_data = [[1, 4, 5, 6], [4, 5, 6, 7], [30, 40, 50, 60]]\n",
    "\n",
    "eval_data = [[2, 4, 6, 8], [1, 4, 50, 60]]\n",
    "\n",
    "train_labels = [10, 20, 30]\n",
    "# Initialize CatBoostRegressor\n",
    "model = CatBoostRegressor(iterations=2, learning_rate=1, depth=2)\n",
    "# Fit model\n",
    "model.fit(train_data, train_labels)\n",
    "# Get predictions\n",
    "preds = model.predict(eval_data)\n",
    "print(preds)\n"
   ]
  },
  {
   "cell_type": "markdown",
   "metadata": {},
   "source": [
    "## Save Model\n",
    "Model must have the file name `model.pkl` in current directory. This is hardcoded in `deploy.sh`"
   ]
  },
  {
   "cell_type": "code",
   "execution_count": 3,
   "metadata": {},
   "outputs": [],
   "source": [
    "# save model\n",
    "import pickle\n",
    "with open('model.pkl', 'wb') as out:\n",
    "    pickle.dump(model, out, protocol=3) # python3 default\n",
    "  "
   ]
  },
  {
   "cell_type": "markdown",
   "metadata": {},
   "source": [
    "## Deploy Endpoint\n",
    "\n",
    "Take note that the following needs to be updated according:\n",
    "- image name\n",
    "- classic model location\n",
    "- sagemaker execution role"
   ]
  },
  {
   "cell_type": "code",
   "execution_count": 12,
   "metadata": {},
   "outputs": [],
   "source": [
    "! cp model.pkl local_test/test_dir/model/"
   ]
  },
  {
   "cell_type": "code",
   "execution_count": 25,
   "metadata": {
    "tags": []
   },
   "outputs": [
    {
     "output_type": "stream",
     "name": "stdout",
     "text": [
      "a model.pkl\n",
      "move: ./model.tar.gz to s3://wy-sandbox-singapore/sagemaker/model/sagemaker-inference-containers/test/input/model.tar.gz\n",
      "342474125894\n",
      "Login Succeeded\n",
      "Login Succeeded\n",
      "\u001b[1A\u001b[1B\u001b[0G\u001b[?25l[+] Building 0.0s (0/1)                                                         \n",
      "\u001b[?25h\u001b[1A\u001b[0G\u001b[?25l[+] Building 0.1s (2/4)                                                         \n",
      "\u001b[34m => [internal] load build definition from Dockerfile                       0.0s\n",
      "\u001b[0m\u001b[34m => => transferring dockerfile: 84B                                        0.0s\n",
      "\u001b[0m\u001b[34m => [internal] load .dockerignore                                          0.0s\n",
      "\u001b[0m\u001b[34m => => transferring context: 2B                                            0.0s\n",
      "\u001b[0m => [internal] load metadata for 520713654638.dkr.ecr.ap-southeast-1.amaz  0.0s\n",
      " => [auth] sharing credentials for 520713654638.dkr.ecr.ap-southeast-1.am  0.0s\n",
      "\u001b[?25h\u001b[1A\u001b[1A\u001b[1A\u001b[1A\u001b[1A\u001b[1A\u001b[1A\u001b[0G\u001b[?25l[+] Building 0.3s (3/4)                                                         \n",
      "\u001b[34m => [internal] load build definition from Dockerfile                       0.0s\n",
      "\u001b[0m\u001b[34m => => transferring dockerfile: 84B                                        0.0s\n",
      "\u001b[0m\u001b[34m => [internal] load .dockerignore                                          0.0s\n",
      "\u001b[0m\u001b[34m => => transferring context: 2B                                            0.0s\n",
      "\u001b[0m => [internal] load metadata for 520713654638.dkr.ecr.ap-southeast-1.amaz  0.2s\n",
      "\u001b[34m => [auth] sharing credentials for 520713654638.dkr.ecr.ap-southeast-1.am  0.0s\n",
      "\u001b[0m\u001b[?25h\u001b[1A\u001b[1A\u001b[1A\u001b[1A\u001b[1A\u001b[1A\u001b[1A\u001b[0G\u001b[?25l[+] Building 0.4s (4/4)                                                         \n",
      "\u001b[34m => [internal] load build definition from Dockerfile                       0.0s\n",
      "\u001b[0m\u001b[34m => => transferring dockerfile: 84B                                        0.0s\n",
      "\u001b[0m\u001b[34m => [internal] load .dockerignore                                          0.0s\n",
      "\u001b[0m\u001b[34m => => transferring context: 2B                                            0.0s\n",
      "\u001b[0m\u001b[34m => [internal] load metadata for 520713654638.dkr.ecr.ap-southeast-1.amaz  0.3s\n",
      "\u001b[0m\u001b[34m => [auth] sharing credentials for 520713654638.dkr.ecr.ap-southeast-1.am  0.0s\n",
      "\u001b[0m\u001b[?25h\u001b[1A\u001b[1A\u001b[1A\u001b[1A\u001b[1A\u001b[1A\u001b[1A\u001b[0G\u001b[?25l[+] Building 0.5s (13/13) FINISHED                                              \n",
      "\u001b[34m => [internal] load build definition from Dockerfile                       0.0s\n",
      "\u001b[0m\u001b[34m => => transferring dockerfile: 84B                                        0.0s\n",
      "\u001b[0m\u001b[34m => [internal] load .dockerignore                                          0.0s\n",
      "\u001b[0m\u001b[34m => => transferring context: 2B                                            0.0s\n",
      "\u001b[0m\u001b[34m => [internal] load metadata for 520713654638.dkr.ecr.ap-southeast-1.amaz  0.3s\n",
      "\u001b[0m\u001b[34m => [auth] sharing credentials for 520713654638.dkr.ecr.ap-southeast-1.am  0.0s\n",
      "\u001b[0m\u001b[34m => [1/7] FROM 520713654638.dkr.ecr.ap-southeast-1.amazonaws.com/sagemake  0.0s\n",
      "\u001b[0m\u001b[34m => [internal] load build context                                          0.0s\n",
      "\u001b[0m\u001b[34m => => transferring context: 389B                                          0.0s\n",
      "\u001b[0m\u001b[34m => CACHED [2/7] RUN apt-get -y update && apt-get install -y --no-install  0.0s\n",
      "\u001b[0m\u001b[34m => CACHED [3/7] RUN pip3 install --upgrade pip                            0.0s\n",
      "\u001b[0m\u001b[34m => CACHED [4/7] RUN pip3 install --no-cache --upgrade --use-feature=2020  0.0s\n",
      "\u001b[0m\u001b[34m => CACHED [5/7] COPY deployment_utility /opt/program                      0.0s\n",
      "\u001b[0m\u001b[34m => CACHED [6/7] COPY predictor.py /opt/program                            0.0s\n",
      "\u001b[0m\u001b[34m => CACHED [7/7] WORKDIR /opt/program                                      0.0s\n",
      "\u001b[0m\u001b[34m => exporting to image                                                     0.0s\n",
      "\u001b[0m\u001b[34m => => exporting layers                                                    0.0s\n",
      "\u001b[0m\u001b[34m => => writing image sha256:ada1b474258c2938dda0335b43a431151eaeed8fcec03  0.0s\n",
      "\u001b[0m\u001b[34m => => naming to docker.io/sagemaker-inference-containers/test             0.0s\n",
      "\u001b[0m\u001b[?25h\n",
      "Docker image built ...\n",
      "The push refers to repository [342474125894.dkr.ecr.ap-southeast-1.amazonaws.com/sagemaker-inference-containers/test]\n",
      "\n",
      "\u001b[1B\n",
      "\u001b[1B\n",
      "\u001b[1B\n",
      "\u001b[1B\n",
      "\u001b[1B\n",
      "\u001b[1B\n",
      "\u001b[1B\n",
      "\u001b[1B\n",
      "\u001b[1B\n",
      "\u001b[1B\n",
      "\u001b[1B\n",
      "\u001b[1B\n",
      "\u001b[1B\n",
      "\u001b[1B\n",
      "\u001b[1B\n",
      "\u001b[1B\n",
      "\u001b[1B\n",
      "\u001b[1B\n",
      "\u001b[1B\n",
      "\u001b[1B\n",
      "\u001b[6Blatest: digest: sha256:6013586fef6d0529527bc711992eafd7839e2038379fd429a09b8252bb464bfb size: 4721\n",
      "\n",
      "Docker image pushed ...\n"
     ]
    }
   ],
   "source": [
    "!./deploy.sh sagemaker-inference-containers/test"
   ]
  },
  {
   "cell_type": "code",
   "execution_count": 22,
   "metadata": {},
   "outputs": [
    {
     "output_type": "stream",
     "name": "stdout",
     "text": [
      "{\n    \"Endpoints\": [\n        {\n            \"EndpointName\": \"rtc360-20210104-171844\",\n            \"EndpointArn\": \"arn:aws:sagemaker:ap-southeast-1:342474125894:endpoint/rtc360-20210104-171844\",\n            \"CreationTime\": \"2021-01-04T17:18:47.852000+08:00\",\n            \"LastModifiedTime\": \"2021-01-04T17:25:02.847000+08:00\",\n            \"EndpointStatus\": \"InService\"\n        }\n    ]\n}\n"
     ]
    }
   ],
   "source": [
    "!aws sagemaker list-endpoints --name-contains rtc360-20210104-171844"
   ]
  },
  {
   "cell_type": "code",
   "execution_count": 16,
   "metadata": {},
   "outputs": [
    {
     "output_type": "stream",
     "name": "stdout",
     "text": [
      "Mon Jan  4 17:16:09 +08 2021\n"
     ]
    }
   ],
   "source": [
    "!date"
   ]
  },
  {
   "cell_type": "markdown",
   "metadata": {},
   "source": [
    "## Inference\n"
   ]
  },
  {
   "cell_type": "code",
   "execution_count": 26,
   "metadata": {},
   "outputs": [],
   "source": [
    "!echo \"1,2,3,4\\n5,6,7,8\" >> test.csv"
   ]
  },
  {
   "cell_type": "code",
   "execution_count": 18,
   "metadata": {},
   "outputs": [
    {
     "output_type": "stream",
     "name": "stdout",
     "text": [
      "1,2,3,4\n5,6,7,8\n1,2,3,4\n5,6,7,8\n1,2,3,4\n5,6,7,8\n\n"
     ]
    }
   ],
   "source": [
    "with open('test.csv', 'r') as f:\n",
    "    payload = f.read()\n",
    "    \n",
    "print(payload)"
   ]
  },
  {
   "cell_type": "code",
   "execution_count": 23,
   "metadata": {},
   "outputs": [
    {
     "output_type": "stream",
     "name": "stdout",
     "text": [
      "15.625\n20.0\n15.625\n20.0\n15.625\n20.0\n\n"
     ]
    }
   ],
   "source": [
    "# leaseplan-deploy-py3-20191015-055338 (iso match sklearn)\n",
    "# leaseplan-deploy-py3-20191016-083601 (v2)\n",
    "\n",
    "import io, boto3\n",
    "\n",
    "sess = boto3.Session()\n",
    "response = sess.client('sagemaker-runtime').invoke_endpoint(\n",
    "    EndpointName='rtc360-20210104-171844', \n",
    "    Body=payload,\n",
    "    ContentType='text/csv', \n",
    ")\n",
    "\n",
    "results = response['Body'].read().decode('ascii')\n",
    "print(results)\n"
   ]
  },
  {
   "cell_type": "code",
   "execution_count": null,
   "metadata": {},
   "outputs": [],
   "source": []
  }
 ],
 "metadata": {
  "kernelspec": {
   "name": "python3",
   "display_name": "Python 3.8.6 64-bit ('3.8.6')",
   "metadata": {
    "interpreter": {
     "hash": "185eabfcdf4df50349e20bee16b2a0b255a9875bb276c77f7747bf074186d73c"
    }
   }
  },
  "language_info": {
   "codemirror_mode": {
    "name": "ipython",
    "version": 3
   },
   "file_extension": ".py",
   "mimetype": "text/x-python",
   "name": "python",
   "nbconvert_exporter": "python",
   "pygments_lexer": "ipython3",
   "version": "3.8.6-final"
  }
 },
 "nbformat": 4,
 "nbformat_minor": 4
}